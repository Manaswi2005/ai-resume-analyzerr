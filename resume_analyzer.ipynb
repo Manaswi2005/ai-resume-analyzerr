{
 "cells": [
  {
   "cell_type": "markdown",
   "metadata": {},
   "source": [
    "## Get The text from the PDF"
   ]
  },
  {
   "cell_type": "code",
   "execution_count": 1,
   "metadata": {},
   "outputs": [
    {
     "name": "stdout",
     "output_type": "stream",
     "text": [
      "Defaulting to user installation because normal site-packages is not writeable\n",
      "Requirement already satisfied: pdfplumber in c:\\users\\manasvi\\appdata\\roaming\\python\\python312\\site-packages (0.11.4)\n",
      "Requirement already satisfied: pytesseract in c:\\users\\manasvi\\appdata\\roaming\\python\\python312\\site-packages (0.3.13)\n",
      "Requirement already satisfied: pdf2image in c:\\users\\manasvi\\appdata\\roaming\\python\\python312\\site-packages (1.17.0)\n",
      "Requirement already satisfied: pdfminer.six==20231228 in c:\\users\\manasvi\\appdata\\roaming\\python\\python312\\site-packages (from pdfplumber) (20231228)\n",
      "Requirement already satisfied: Pillow>=9.1 in c:\\users\\manasvi\\appdata\\roaming\\python\\python312\\site-packages (from pdfplumber) (10.4.0)\n",
      "Requirement already satisfied: pypdfium2>=4.18.0 in c:\\users\\manasvi\\appdata\\roaming\\python\\python312\\site-packages (from pdfplumber) (4.30.0)\n",
      "Requirement already satisfied: charset-normalizer>=2.0.0 in c:\\users\\manasvi\\appdata\\roaming\\python\\python312\\site-packages (from pdfminer.six==20231228->pdfplumber) (3.4.2)\n",
      "Requirement already satisfied: cryptography>=36.0.0 in c:\\users\\manasvi\\appdata\\roaming\\python\\python312\\site-packages (from pdfminer.six==20231228->pdfplumber) (45.0.6)\n",
      "Requirement already satisfied: packaging>=21.3 in c:\\users\\manasvi\\appdata\\roaming\\python\\python312\\site-packages (from pytesseract) (23.2)\n",
      "Requirement already satisfied: cffi>=1.14 in c:\\users\\manasvi\\appdata\\roaming\\python\\python312\\site-packages (from cryptography>=36.0.0->pdfminer.six==20231228->pdfplumber) (1.17.1)\n",
      "Requirement already satisfied: pycparser in c:\\users\\manasvi\\appdata\\roaming\\python\\python312\\site-packages (from cffi>=1.14->cryptography>=36.0.0->pdfminer.six==20231228->pdfplumber) (2.22)\n",
      "Note: you may need to restart the kernel to use updated packages.\n"
     ]
    }
   ],
   "source": [
    "%pip install pdfplumber pytesseract pdf2image"
   ]
  },
  {
   "cell_type": "code",
   "execution_count": null,
   "metadata": {},
   "outputs": [],
   "source": [
    "import pdfplumber\n",
    "import pytesseract\n",
    "from pdf2image import convert_from_path\n",
    "from PIL import Image\n",
    "import os\n"
   ]
  },
  {
   "cell_type": "code",
   "execution_count": 33,
   "metadata": {},
   "outputs": [],
   "source": [
    "def extract_text_from_file(file_path):\n",
    "    text = \"\"\n",
    "    ext = os.path.splitext(file_path)[-1].lower()\n",
    "\n",
    "    # ------------------------------\n",
    "    # 1️⃣ For PDF files\n",
    "    # ------------------------------\n",
    "    if ext == \".pdf\":\n",
    "        try:\n",
    "            # Try direct text extraction (for digital PDFs)\n",
    "            with pdfplumber.open(file_path) as pdf:\n",
    "                for page in pdf.pages:\n",
    "                    page_text = page.extract_text()\n",
    "                    if page_text:\n",
    "                        text += page_text + \"\\n\"\n",
    "\n",
    "            if text.strip():\n",
    "                print(\"✅ Extracted text using pdfplumber.\")\n",
    "                return text.strip()\n",
    "        except Exception as e:\n",
    "            print(f\"⚠️ Direct text extraction failed: {e}\")\n",
    "\n",
    "        # Fallback: Use OCR (for scanned PDFs)\n",
    "        print(\"⚙️ Falling back to OCR for image-based PDF...\")\n",
    "        try:\n",
    "            images = convert_from_path(file_path)\n",
    "            for i, image in enumerate(images):\n",
    "                gray = image.convert(\"L\")  # Convert to grayscale\n",
    "                page_text = pytesseract.image_to_string(gray)\n",
    "                text += f\"\\n\\n--- Page {i+1} ---\\n{page_text}\"\n",
    "            print(\"✅ Extracted text using OCR.\")\n",
    "        except Exception as e:\n",
    "            print(f\"❌ OCR failed: {e}\")\n",
    "\n",
    "    # ------------------------------\n",
    "    # 2️⃣ For Image files (JPG/PNG)\n",
    "    # ------------------------------\n",
    "    elif ext in [\".jpg\", \".jpeg\", \".png\"]:\n",
    "        try:\n",
    "            image = Image.open(file_path)\n",
    "            gray = image.convert(\"L\")  # Convert to grayscale\n",
    "            text = pytesseract.image_to_string(gray)\n",
    "            print(\"✅ Extracted text from image using OCR.\")\n",
    "        except Exception as e:\n",
    "            print(f\"❌ Image OCR failed: {e}\")\n",
    "    else:\n",
    "        print(\"❌ Unsupported file type. Please use PDF or image files.\")\n",
    "\n",
    "    return text.strip()"
   ]
  },
  {
   "cell_type": "code",
   "execution_count": 34,
   "metadata": {},
   "outputs": [
    {
     "name": "stdout",
     "output_type": "stream",
     "text": [
      "⚠️ Direct text extraction failed: [Errno 2] No such file or directory: 'Resume.pdf'\n",
      "⚙️ Falling back to OCR for image-based PDF...\n",
      "❌ OCR failed: Unable to get page count. Is poppler installed and in PATH?\n",
      "\n",
      "📝 Extracted Text:\n",
      "--------------------------------------------------\n",
      "No text could be extracted.\n"
     ]
    }
   ],
   "source": [
    "file_path = \"Resume.pdf\"  # ✅ Change this to your file name or image\n",
    "extracted_text = extract_text_from_file(file_path)\n",
    "\n",
    "print(\"\\n📝 Extracted Text:\")\n",
    "print(\"-\" * 50)\n",
    "print(extracted_text if extracted_text else \"No text could be extracted.\")"
   ]
  },
  {
   "cell_type": "markdown",
   "metadata": {},
   "source": [
    "## Set Google GenerativeAI Api Key"
   ]
  },
  {
   "cell_type": "code",
   "execution_count": 5,
   "metadata": {},
   "outputs": [
    {
     "name": "stdout",
     "output_type": "stream",
     "text": [
      "Defaulting to user installation because normal site-packages is not writeable\n",
      "Requirement already satisfied: google.generativeai in c:\\users\\manasvi\\appdata\\roaming\\python\\python312\\site-packages (0.8.5)\n",
      "Requirement already satisfied: python-dotenv in c:\\users\\manasvi\\appdata\\roaming\\python\\python312\\site-packages (1.0.1)\n",
      "Requirement already satisfied: google-ai-generativelanguage==0.6.15 in c:\\users\\manasvi\\appdata\\roaming\\python\\python312\\site-packages (from google.generativeai) (0.6.15)\n",
      "Requirement already satisfied: google-api-core in c:\\users\\manasvi\\appdata\\roaming\\python\\python312\\site-packages (from google.generativeai) (2.26.0)\n",
      "Requirement already satisfied: google-api-python-client in c:\\users\\manasvi\\appdata\\roaming\\python\\python312\\site-packages (from google.generativeai) (2.178.0)\n",
      "Requirement already satisfied: google-auth>=2.15.0 in c:\\users\\manasvi\\appdata\\roaming\\python\\python312\\site-packages (from google.generativeai) (2.40.3)\n",
      "Requirement already satisfied: protobuf in c:\\users\\manasvi\\appdata\\roaming\\python\\python312\\site-packages (from google.generativeai) (4.25.8)\n",
      "Requirement already satisfied: pydantic in c:\\users\\manasvi\\appdata\\roaming\\python\\python312\\site-packages (from google.generativeai) (2.11.7)\n",
      "Requirement already satisfied: tqdm in c:\\users\\manasvi\\appdata\\roaming\\python\\python312\\site-packages (from google.generativeai) (4.67.1)\n",
      "Requirement already satisfied: typing-extensions in c:\\users\\manasvi\\appdata\\roaming\\python\\python312\\site-packages (from google.generativeai) (4.14.1)\n",
      "Requirement already satisfied: proto-plus<2.0.0dev,>=1.22.3 in c:\\users\\manasvi\\appdata\\roaming\\python\\python312\\site-packages (from google-ai-generativelanguage==0.6.15->google.generativeai) (1.26.1)\n",
      "Requirement already satisfied: googleapis-common-protos<2.0.0,>=1.56.2 in c:\\users\\manasvi\\appdata\\roaming\\python\\python312\\site-packages (from google-api-core->google.generativeai) (1.70.0)\n",
      "Requirement already satisfied: requests<3.0.0,>=2.18.0 in c:\\users\\manasvi\\appdata\\roaming\\python\\python312\\site-packages (from google-api-core->google.generativeai) (2.32.4)\n",
      "Requirement already satisfied: grpcio<2.0.0,>=1.33.2 in c:\\users\\manasvi\\appdata\\roaming\\python\\python312\\site-packages (from google-api-core[grpc]!=2.0.*,!=2.1.*,!=2.10.*,!=2.2.*,!=2.3.*,!=2.4.*,!=2.5.*,!=2.6.*,!=2.7.*,!=2.8.*,!=2.9.*,<3.0.0dev,>=1.34.1->google-ai-generativelanguage==0.6.15->google.generativeai) (1.74.0)\n",
      "Requirement already satisfied: grpcio-status<2.0.0,>=1.33.2 in c:\\users\\manasvi\\appdata\\roaming\\python\\python312\\site-packages (from google-api-core[grpc]!=2.0.*,!=2.1.*,!=2.10.*,!=2.2.*,!=2.3.*,!=2.4.*,!=2.5.*,!=2.6.*,!=2.7.*,!=2.8.*,!=2.9.*,<3.0.0dev,>=1.34.1->google-ai-generativelanguage==0.6.15->google.generativeai) (1.62.3)\n",
      "Requirement already satisfied: cachetools<6.0,>=2.0.0 in c:\\users\\manasvi\\appdata\\roaming\\python\\python312\\site-packages (from google-auth>=2.15.0->google.generativeai) (5.5.2)\n",
      "Requirement already satisfied: pyasn1-modules>=0.2.1 in c:\\users\\manasvi\\appdata\\roaming\\python\\python312\\site-packages (from google-auth>=2.15.0->google.generativeai) (0.4.2)\n",
      "Requirement already satisfied: rsa<5,>=3.1.4 in c:\\users\\manasvi\\appdata\\roaming\\python\\python312\\site-packages (from google-auth>=2.15.0->google.generativeai) (4.9.1)\n",
      "Requirement already satisfied: charset_normalizer<4,>=2 in c:\\users\\manasvi\\appdata\\roaming\\python\\python312\\site-packages (from requests<3.0.0,>=2.18.0->google-api-core->google.generativeai) (3.4.2)\n",
      "Requirement already satisfied: idna<4,>=2.5 in c:\\users\\manasvi\\appdata\\roaming\\python\\python312\\site-packages (from requests<3.0.0,>=2.18.0->google-api-core->google.generativeai) (3.10)\n",
      "Requirement already satisfied: urllib3<3,>=1.21.1 in c:\\users\\manasvi\\appdata\\roaming\\python\\python312\\site-packages (from requests<3.0.0,>=2.18.0->google-api-core->google.generativeai) (2.5.0)\n",
      "Requirement already satisfied: certifi>=2017.4.17 in c:\\users\\manasvi\\appdata\\roaming\\python\\python312\\site-packages (from requests<3.0.0,>=2.18.0->google-api-core->google.generativeai) (2025.8.3)\n",
      "Requirement already satisfied: pyasn1>=0.1.3 in c:\\users\\manasvi\\appdata\\roaming\\python\\python312\\site-packages (from rsa<5,>=3.1.4->google-auth>=2.15.0->google.generativeai) (0.6.1)\n",
      "Requirement already satisfied: httplib2<1.0.0,>=0.19.0 in c:\\users\\manasvi\\appdata\\roaming\\python\\python312\\site-packages (from google-api-python-client->google.generativeai) (0.22.0)\n",
      "Requirement already satisfied: google-auth-httplib2<1.0.0,>=0.2.0 in c:\\users\\manasvi\\appdata\\roaming\\python\\python312\\site-packages (from google-api-python-client->google.generativeai) (0.2.0)\n",
      "Requirement already satisfied: uritemplate<5,>=3.0.1 in c:\\users\\manasvi\\appdata\\roaming\\python\\python312\\site-packages (from google-api-python-client->google.generativeai) (4.2.0)\n",
      "Requirement already satisfied: pyparsing!=3.0.0,!=3.0.1,!=3.0.2,!=3.0.3,<4,>=2.4.2 in c:\\users\\manasvi\\appdata\\roaming\\python\\python312\\site-packages (from httplib2<1.0.0,>=0.19.0->google-api-python-client->google.generativeai) (3.2.3)\n",
      "Requirement already satisfied: annotated-types>=0.6.0 in c:\\users\\manasvi\\appdata\\roaming\\python\\python312\\site-packages (from pydantic->google.generativeai) (0.7.0)\n",
      "Requirement already satisfied: pydantic-core==2.33.2 in c:\\users\\manasvi\\appdata\\roaming\\python\\python312\\site-packages (from pydantic->google.generativeai) (2.33.2)\n",
      "Requirement already satisfied: typing-inspection>=0.4.0 in c:\\users\\manasvi\\appdata\\roaming\\python\\python312\\site-packages (from pydantic->google.generativeai) (0.4.1)\n",
      "Requirement already satisfied: colorama in c:\\users\\manasvi\\appdata\\roaming\\python\\python312\\site-packages (from tqdm->google.generativeai) (0.4.6)\n",
      "Note: you may need to restart the kernel to use updated packages.\n"
     ]
    }
   ],
   "source": [
    "%pip install google.generativeai python-dotenv"
   ]
  },
  {
   "cell_type": "code",
   "execution_count": 28,
   "metadata": {},
   "outputs": [],
   "source": [
    "import google.generativeai as genai\n",
    "import os\n",
    "from dotenv import load_dotenv\n",
    "\n",
    "load_dotenv()\n",
    "genai.configure(api_key=os.getenv(\"GOOGLE_API_KEY\"))\n",
    "model = genai.GenerativeModel(\"models/gemini-2.5-pro\")\n"
   ]
  },
  {
   "cell_type": "code",
   "execution_count": 29,
   "metadata": {},
   "outputs": [],
   "source": [
    "response = model.generate_content(\"What is the capital of India?\")\n"
   ]
  },
  {
   "cell_type": "code",
   "execution_count": 30,
   "metadata": {},
   "outputs": [
    {
     "name": "stdout",
     "output_type": "stream",
     "text": [
      "response:\n",
      "GenerateContentResponse(\n",
      "    done=True,\n",
      "    iterator=None,\n",
      "    result=protos.GenerateContentResponse({\n",
      "      \"candidates\": [\n",
      "        {\n",
      "          \"content\": {\n",
      "            \"parts\": [\n",
      "              {\n",
      "                \"text\": \"The capital of India is **New Delhi**.\"\n",
      "              }\n",
      "            ],\n",
      "            \"role\": \"model\"\n",
      "          },\n",
      "          \"finish_reason\": \"STOP\",\n",
      "          \"index\": 0\n",
      "        }\n",
      "      ],\n",
      "      \"usage_metadata\": {\n",
      "        \"prompt_token_count\": 8,\n",
      "        \"candidates_token_count\": 9,\n",
      "        \"total_token_count\": 268\n",
      "      },\n",
      "      \"model_version\": \"gemini-2.5-pro\"\n",
      "    }),\n",
      ")\n"
     ]
    }
   ],
   "source": [
    "print(response)"
   ]
  },
  {
   "cell_type": "code",
   "execution_count": 24,
   "metadata": {},
   "outputs": [
    {
     "name": "stdout",
     "output_type": "stream",
     "text": [
      "The capital of India is **New Delhi**.\n"
     ]
    }
   ],
   "source": [
    "print(response.text)"
   ]
  },
  {
   "cell_type": "markdown",
   "metadata": {},
   "source": [
    "## Resume Analysis"
   ]
  },
  {
   "cell_type": "code",
   "execution_count": 26,
   "metadata": {},
   "outputs": [],
   "source": [
    "def analyze_resume(resume_text, job_description=None):\n",
    "    if not resume_text:\n",
    "        return {\"error\": \"Resume text is required for analysis.\"}\n",
    "\n",
    "    # Create model inside the function\n",
    "    model = genai.GenerativeModel(\"models/gemini-2.5-pro\")\n",
    "\n",
    "    base_prompt = f\"\"\"\n",
    "    You are an experienced HR with Technical Experience in the field of any one job role from \n",
    "    Data Science, Data Analyst, DevOPS, Machine Learning Engineer, Prompt Engineer, AI Engineer, \n",
    "    Full Stack Web Development, Big Data Engineering, Marketing Analyst, Human Resource Manager, \n",
    "    or Software Developer. Your task is to review the provided resume.\n",
    "    Please share your professional evaluation on whether the candidate's profile aligns with the role.\n",
    "    Also mention skills they already have and suggest some skills to improve the resume, \n",
    "    as well as courses they might take to improve these skills. Highlight the strengths and weaknesses.\n",
    "\n",
    "    Resume:\n",
    "    {resume_text}\n",
    "    \"\"\"\n",
    "\n",
    "    if job_description:\n",
    "        base_prompt += f\"\"\"\n",
    "        Additionally, compare this resume to the following job description:\n",
    "        \n",
    "        Job Description:\n",
    "        {job_description}\n",
    "        \n",
    "        Highlight the strengths and weaknesses of the applicant in relation to the specified job requirements.\n",
    "        \"\"\"\n",
    "\n",
    "    response = model.generate_content(base_prompt)\n",
    "    analysis = response.text.strip()\n",
    "    return analysis\n"
   ]
  },
  {
   "cell_type": "code",
   "execution_count": 27,
   "metadata": {},
   "outputs": [
    {
     "name": "stdout",
     "output_type": "stream",
     "text": [
      "{'error': 'Resume text is required for analysis.'}\n"
     ]
    }
   ],
   "source": [
    "print(analyze_resume(resume_text))\n"
   ]
  }
 ],
 "metadata": {
  "kernelspec": {
   "display_name": "Python 3",
   "language": "python",
   "name": "python3"
  },
  "language_info": {
   "codemirror_mode": {
    "name": "ipython",
    "version": 3
   },
   "file_extension": ".py",
   "mimetype": "text/x-python",
   "name": "python",
   "nbconvert_exporter": "python",
   "pygments_lexer": "ipython3",
   "version": "3.12.6"
  }
 },
 "nbformat": 4,
 "nbformat_minor": 2
}
